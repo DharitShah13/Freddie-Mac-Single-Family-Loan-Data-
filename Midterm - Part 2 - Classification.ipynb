{
 "cells": [
  {
   "cell_type": "markdown",
   "metadata": {},
   "source": [
    "# Midterm-Part 2-Classification"
   ]
  },
  {
   "cell_type": "code",
   "execution_count": 1,
   "metadata": {},
   "outputs": [
    {
     "name": "stderr",
     "output_type": "stream",
     "text": [
      "C:\\Users\\Abhinav\\Anaconda3\\lib\\site-packages\\sklearn\\ensemble\\weight_boosting.py:29: DeprecationWarning: numpy.core.umath_tests is an internal NumPy module and should not be imported. It will be removed in a future NumPy release.\n",
      "  from numpy.core.umath_tests import inner1d\n"
     ]
    }
   ],
   "source": [
    "from webbot import Browser\n",
    "from zipfile import ZipFile\n",
    "from sklearn.linear_model import LogisticRegression\n",
    "from sklearn.ensemble import RandomForestClassifier\n",
    "from sklearn.neural_network import MLPClassifier\n",
    "from sklearn.preprocessing import MinMaxScaler\n",
    "global scaler\n",
    "scaler = MinMaxScaler()\n",
    "\n",
    "from sklearn.metrics import *\n",
    "from IPython.core.display import HTML\n",
    "from mlxtend.feature_selection import SequentialFeatureSelector as SFS\n",
    "from mlxtend.feature_selection import ExhaustiveFeatureSelector as EFS\n",
    "\n",
    "import sys\n",
    "import os\n",
    "import time\n",
    "import zipfile\n",
    "import datetime\n",
    "import glob\n",
    "import pandas as pd\n",
    "import numpy as np\n",
    "import matplotlib.pyplot as plt\n",
    "%matplotlib inline"
   ]
  },
  {
   "cell_type": "code",
   "execution_count": 2,
   "metadata": {},
   "outputs": [],
   "source": [
    "def navigate(user='tiwari.abhi@husky.neu.edu', password='\\nWIB[Lw'):\n",
    "    global web\n",
    "    web = Browser()\n",
    "    web.go_to(\"https://freddiemac.embs.com/FLoan/secure/login.php?pagename=download2\")\n",
    "    web.type(user, into='email')\n",
    "    web.type(password, into='password')\n",
    "    web.click('Submit Credentials')\n",
    "    web.click('Yes')\n",
    "    web.click('Continue')"
   ]
  },
  {
   "cell_type": "code",
   "execution_count": 3,
   "metadata": {},
   "outputs": [],
   "source": [
    "def get_next_quarter_str(quarter_str='Q22005'):\n",
    "    try:\n",
    "        quarter_int = int(quarter_str[1:2])\n",
    "        \n",
    "        if quarter_int <= 0:\n",
    "            print('Quarter cannot be lesser than or equal to zero')\n",
    "            exit(0)\n",
    "        \n",
    "        year = int(quarter_str[2:])\n",
    "        \n",
    "    except:\n",
    "        print('Cannot Parse Quarter/Year to Int Value')\n",
    "        exit(0)\n",
    "    \n",
    "    next_quarter = quarter_int + 1\n",
    "    \n",
    "    if next_quarter > 4:\n",
    "        next_quarter = 1\n",
    "        year = year + 1\n",
    "    \n",
    "    next_quarter_str = 'Q'+ str(next_quarter) + str(year)\n",
    "    return next_quarter_str"
   ]
  },
  {
   "cell_type": "code",
   "execution_count": 4,
   "metadata": {},
   "outputs": [],
   "source": [
    "def get_both_quarter_data(current_quarter,next_quarter):\n",
    "    \n",
    "    quarters = [current_quarter,next_quarter]\n",
    "    \n",
    "    global file_names\n",
    "    file_names = []\n",
    "    \n",
    "    for q in quarters:\n",
    "        web.click('historical_data1_{}.zip'.format(q))\n",
    "        file_names.append('historical_data1_{}.zip'.format(q))\n",
    "        time.sleep(20)\n",
    "    \n",
    "    global download_path\n",
    "    download_path = ''\n",
    "    path_list = os.getcwd().split('\\\\')[:3]\n",
    "\n",
    "    for item in path_list:\n",
    "        download_path = download_path + item + '\\\\'\n",
    "\n",
    "    download_path = download_path + 'Downloads'"
   ]
  },
  {
   "cell_type": "code",
   "execution_count": 5,
   "metadata": {},
   "outputs": [],
   "source": [
    "def assure_path_exists(path):\n",
    "    if not os.path.exists(path):\n",
    "        os.makedirs(path)"
   ]
  },
  {
   "cell_type": "code",
   "execution_count": 6,
   "metadata": {},
   "outputs": [],
   "source": [
    "def extract_zipped_files_to_cwd(path_to_downloaded_files):\n",
    "    global folder_path_all_files\n",
    "    folder_path_all_files = os.getcwd() + '\\\\' + 'Extracted Quarterly Files'\n",
    "    zip_ref = zipfile.ZipFile(path_to_downloaded_files, 'r')\n",
    "    assure_path_exists(folder_path_all_files)\n",
    "    zip_ref.extractall(folder_path_all_files)\n",
    "    zip_ref.close()"
   ]
  },
  {
   "cell_type": "code",
   "execution_count": 7,
   "metadata": {},
   "outputs": [],
   "source": [
    "def fillNA_performance(df):\n",
    "    df['current_upb'] = df['current_upb'].fillna(0)\n",
    "    df['delq_sts'] = df['delq_sts'].fillna('XX')\n",
    "    df['loan_age'] = df['loan_age'].fillna(-1)\n",
    "    df['mths_remng'] = df['mths_remng'].fillna(-1)\n",
    "    df['repch_flag'] = df['repch_flag'].fillna('X')\n",
    "    df['flag_mod'] = df['flag_mod'].fillna('N')\n",
    "    df['cd_zero_bal'] = df['cd_zero_bal'].fillna(-1)\n",
    "    df['dt_zero_bal'] = df['dt_zero_bal'].fillna('189901')\n",
    "    df['current_int_rt'] = df['current_int_rt'].fillna(0)\n",
    "    df['current_dfr_upb'] = df['current_dfr_upb'].fillna(0)\n",
    "    df['dt_lst_pi'] = df['dt_lst_pi'].fillna('189901')\n",
    "    df['mi_recoveries'] = df['mi_recoveries'].fillna(0)\n",
    "    df['net_sale_proceeds'] = df['net_sale_proceeds'].fillna('U')\n",
    "    df['non_mi_recoveries'] = df['non_mi_recoveries'].fillna(0)\n",
    "    df['expenses'] = df['expenses'].fillna(0)\n",
    "    df['legal_costs'] = df['legal_costs'].fillna(0)\n",
    "    df['maint_pres_costs'] = df['maint_pres_costs'].fillna(0)\n",
    "    df['taxes_ins_costs'] = df['taxes_ins_costs'].fillna(0)\n",
    "    df['misc_costs'] = df['misc_costs'].fillna(0)\n",
    "    df['actual_loss'] = df['actual_loss'].fillna(0)\n",
    "    df['modcost'] = df['modcost'].fillna(0)\n",
    "    df['step_mod_flag'] = df['step_mod_flag'].fillna('X')\n",
    "    df['def_py_mod'] = df['def_py_mod'].fillna('X')\n",
    "    df['eltv'] = df['eltv'].fillna(0)\n",
    "    return df"
   ]
  },
  {
   "cell_type": "code",
   "execution_count": 8,
   "metadata": {},
   "outputs": [],
   "source": [
    "def changedatatype_performance(df):\n",
    "    # Change the data types for all column\n",
    "    df[['loan_seq', 'delq_sts', 'repch_flag', 'flag_mod', 'net_sale_proceeds', 'step_mod_flag', 'def_py_mod']] = df[['loan_seq', 'delq_sts', 'repch_flag', 'flag_mod', 'net_sale_proceeds', 'step_mod_flag', 'def_py_mod']].astype('str')\n",
    "    df[['mth_per', 'loan_age', 'mths_remng', 'dt_zero_bal']] = df[['mth_per', 'loan_age', 'mths_remng', 'dt_zero_bal']].astype('int64')\n",
    "    df[['current_upb', 'cd_zero_bal', 'current_int_rt', 'current_dfr_upb', 'dt_lst_pi', 'mi_recoveries','non_mi_recoveries', 'expenses', 'legal_costs', 'maint_pres_costs', 'taxes_ins_costs', 'misc_costs','actual_loss', 'modcost']] = df[['current_upb', 'cd_zero_bal', 'current_int_rt', 'current_dfr_upb', 'dt_lst_pi', 'mi_recoveries','non_mi_recoveries', 'expenses', 'legal_costs', 'maint_pres_costs', 'taxes_ins_costs', 'misc_costs','actual_loss', 'modcost']].astype('float32')\n",
    "    return df"
   ]
  },
  {
   "cell_type": "code",
   "execution_count": 9,
   "metadata": {},
   "outputs": [],
   "source": [
    "def get_Monthly_Performance_File(historic_data_files):\n",
    "    \n",
    "    xyz = glob.glob(historic_data_files)\n",
    "    \n",
    "    for f in xyz:\n",
    "        perf_df = pd.read_csv(f, sep='|',\n",
    "                                  names=['loan_seq', 'mth_per', 'current_upb', 'delq_sts', 'loan_age', 'mths_remng',\n",
    "                                         'repch_flag', 'flag_mod', 'cd_zero_bal', 'dt_zero_bal', 'current_int_rt',\n",
    "                                         'current_dfr_upb', 'dt_lst_pi', 'mi_recoveries', 'net_sale_proceeds',\n",
    "                                         'non_mi_recoveries', 'expenses', 'legal_costs', 'maint_pres_costs',\n",
    "                                         'taxes_ins_costs', 'misc_costs', 'actual_loss', 'modcost', 'step_mod_flag',\n",
    "                                         'def_py_mod', 'eltv'], skipinitialspace=False, low_memory=False)\n",
    "        \n",
    "        perf_df['Year'] = ['19' + x if x == '99' else '20' + x for x in (perf_df['loan_seq'].apply(lambda x: x[2:4]))]\n",
    "        perf_df['delq_sts'] = [ 999 if x=='R' else x for x in (perf_df['delq_sts'].apply(lambda x: x))]\n",
    "        perf_df['delq_sts'] = [ 0 if x=='XX' else x for x in (perf_df['delq_sts'].apply(lambda x: x))]\n",
    "        perf_df['flag_mod_n'] = [ 0 if x=='N' else 1 for x in (perf_df['flag_mod'].apply(lambda x: x))]\n",
    "        perf_df['net_sale_proceeds'] = [ 0 if x=='U' else x for x in (perf_df['net_sale_proceeds'].apply(lambda x: x))]\n",
    "        perf_df['net_sale_proceeds'] = [ perf_df['current_upb'] if x=='C' else x for x in (perf_df['net_sale_proceeds'].apply(lambda x: x))]\n",
    "                \n",
    "        perf_df = fillNA_performance(perf_df)\n",
    "        perf_df = changedatatype_performance(perf_df)\n",
    "        \n",
    "        #Get historical File name\n",
    "        file_name = f.split('\\\\')[-1].split('.')[0]\n",
    "        \n",
    "        perf_df.to_csv(file_name + '.csv', header=True, index=False)"
   ]
  },
  {
   "cell_type": "code",
   "execution_count": 10,
   "metadata": {},
   "outputs": [],
   "source": [
    "def createDummies(df):\n",
    "    dummies = pd.get_dummies(df['repch_flag']).rename(columns=lambda x: 'repch_flag' + str(x))\n",
    "    df = pd.concat([df, dummies], axis=1)\n",
    "    dummies1 = pd.get_dummies(df['cd_zero_bal']).rename(columns=lambda x: 'cd_zero_bal' + str(x))\n",
    "    df = pd.concat([df, dummies1], axis=1)\n",
    "    return df"
   ]
  },
  {
   "cell_type": "code",
   "execution_count": 11,
   "metadata": {},
   "outputs": [],
   "source": [
    "def transformDF(df):\n",
    "    df['delinquent'] = (df.delq_sts > 0).astype(int)\n",
    "    df = df.drop(['cd_zero_bal'],axis = 1)\n",
    "    df = df.drop('delq_sts', axis = 1)\n",
    "    return df"
   ]
  },
  {
   "cell_type": "code",
   "execution_count": 12,
   "metadata": {},
   "outputs": [],
   "source": [
    "def prepare_data_for_model(current_df,next_df):\n",
    "    current_df = createDummies(current_df)\n",
    "    next_df = createDummies(next_df)\n",
    "    \n",
    "    current_df = transformDF(current_df)\n",
    "    next_df = transformDF(next_df)\n",
    "    \n",
    "    current_df = current_df._get_numeric_data()\n",
    "    next_df = next_df._get_numeric_data()\n",
    "    \n",
    "#     current_df = checkAllReqColumns(current_df)\n",
    "#     next_df = checkAllReqColumns(next_df)\n",
    "    \n",
    "    return current_df,next_df"
   ]
  },
  {
   "cell_type": "code",
   "execution_count": 13,
   "metadata": {},
   "outputs": [],
   "source": [
    "def compute_metrics(model,predicted,actual):\n",
    "    global fpr,tpr,cm,auc\n",
    "    \n",
    "    fpr, tpr, _ = roc_curve(actual, predicted, pos_label=1)\n",
    "    \n",
    "    #Plot ROC Curve\n",
    "    plt.figure()\n",
    "    plt.plot(fpr,tpr,label=\"ROC Curve\")\n",
    "    plt.plot([0,1],[0,1],'k--')\n",
    "    plt.xlim([0.0,1.0])\n",
    "    plt.ylim([0.0,1.05])\n",
    "    plt.xlabel(\"1-Specificity\")\n",
    "    plt.ylabel(\"Sensitivity\")\n",
    "    plt.title(\"ROC Curve\")\n",
    "    plt.legend(loc=\"lower right\")\n",
    "    plt.show()\n",
    "        \n",
    "    # Print AUC Value\n",
    "    auc = np.trapz(tpr,fpr)\n",
    "    print('AUC:', auc)\n",
    "    \n",
    "    #Confusion Matrix\n",
    "    cm = confusion_matrix(actual,predicted)\n",
    "    print(cm)\n",
    "    print('\\n')"
   ]
  },
  {
   "cell_type": "code",
   "execution_count": 14,
   "metadata": {},
   "outputs": [],
   "source": [
    "def train_logit_model(current_year_df,next_year_df):\n",
    "    global lgt\n",
    "    \n",
    "    scaled_curr_df = scaler.fit_transform(current_year_df)\n",
    "    scaled_next_df = scaler.fit_transform(next_year_df)\n",
    "    \n",
    "    df_current = pd.DataFrame(scaled_curr_df,columns=current_year_df.columns)\n",
    "    df_next = pd.DataFrame(scaled_next_df,columns=next_year_df.columns)\n",
    "    \n",
    "    X_train = df_current.drop('delinquent', axis=1)\n",
    "    y_train = df_current['delinquent']\n",
    "    X_test = df_next.drop('delinquent', axis=1)\n",
    "    y_test = df_next['delinquent']\n",
    "\n",
    "    lgt = LogisticRegression()\n",
    "    \n",
    "    lgt.fit(X_train,y_train)\n",
    "    \n",
    "    reg_pred_train = lgt.predict(X_train)\n",
    "    reg_pred_test = lgt.predict(X_test)\n",
    "    \n",
    "    print('-Training Metrics-')\n",
    "    compute_metrics(lgt,reg_pred_train,y_train)\n",
    "    \n",
    "    print('-Testing Metrics-')\n",
    "    compute_metrics(lgt,reg_pred_test,y_test)\n",
    "    \n",
    "    metrics_as_per_table(cm,next_year_df)"
   ]
  },
  {
   "cell_type": "code",
   "execution_count": 15,
   "metadata": {},
   "outputs": [],
   "source": [
    "def train_rf_model(current_year_df,next_year_df):\n",
    "    global rf_class\n",
    "    \n",
    "    scaled_curr_df = scaler.fit_transform(current_year_df)\n",
    "    scaled_next_df = scaler.fit_transform(next_year_df)\n",
    "    \n",
    "    df_current = pd.DataFrame(scaled_curr_df,columns=current_year_df.columns)\n",
    "    df_next = pd.DataFrame(scaled_next_df,columns=next_year_df.columns)\n",
    "    \n",
    "    X_train = df_current.drop('delinquent', axis=1)\n",
    "    y_train = df_current['delinquent']\n",
    "    X_test = df_next.drop('delinquent', axis=1)\n",
    "    y_test = df_next['delinquent']\n",
    "\n",
    "    rf_class = RandomForestClassifier()\n",
    "    \n",
    "    rf_class.fit(X_train,y_train)\n",
    "    \n",
    "    rf_pred_train = rf_class.predict(X_train)\n",
    "    rf_pred_test = rf_class.predict(X_test)\n",
    "    \n",
    "    print('-Training Metrics-')\n",
    "    compute_metrics(rf_class,rf_pred_train,y_train)\n",
    "    print('-Testing Metrics-')\n",
    "    compute_metrics(rf_class,rf_pred_test,y_test)\n",
    "    \n",
    "    metrics_as_per_table(cm,next_year_df)"
   ]
  },
  {
   "cell_type": "code",
   "execution_count": 16,
   "metadata": {},
   "outputs": [],
   "source": [
    "def train_nn_model(current_year_df,next_year_df):\n",
    "    global nn_class\n",
    "    \n",
    "    scaled_curr_df = scaler.fit_transform(current_year_df)\n",
    "    scaled_next_df = scaler.fit_transform(next_year_df)\n",
    "    \n",
    "    df_current = pd.DataFrame(scaled_curr_df,columns=current_year_df.columns)\n",
    "    df_next = pd.DataFrame(scaled_next_df,columns=next_year_df.columns)\n",
    "    \n",
    "    X_train = df_current.drop('delinquent', axis=1)\n",
    "    y_train = df_current['delinquent']\n",
    "    X_test = df_next.drop('delinquent', axis=1)\n",
    "    y_test = df_next['delinquent']\n",
    "\n",
    "    nn_class = MLPClassifier()\n",
    "    \n",
    "    nn_class.fit(X_train,y_train)\n",
    "    \n",
    "    nn_pred_train = nn_class.predict(X_train)\n",
    "    nn_pred_test = nn_class.predict(X_test)\n",
    "    \n",
    "    print('-Training Metrics-')\n",
    "    compute_metrics(rf_class,nn_pred_train,y_train)\n",
    "    print('-Testing Metrics-')\n",
    "    compute_metrics(rf_class,nn_pred_test,y_test)\n",
    "    \n",
    "    metrics_as_per_table(cm,next_year_df)"
   ]
  },
  {
   "cell_type": "code",
   "execution_count": 17,
   "metadata": {},
   "outputs": [],
   "source": [
    "def fwd_selection(model,processed_curr_df,processed_next_df):\n",
    "    global sfs_fwd\n",
    "    sfs_fwd = SFS(model, k_features = 20, forward=True, scoring='neg_mean_squared_error', n_jobs=-1)\n",
    "    \n",
    "    #Feature Selection on Current Quarter Data\n",
    "    sfs_fwd = sfs_fwd.fit(processed_curr_df.drop('delinquent',axis=1),processed_curr_df['delinquent'])\n",
    "    \n",
    "    fig1 = plot_sfs(sfs_fwd.get_metric_dict(), kind='std_dev')\n",
    "\n",
    "    plt.ylim([0.8, 1])\n",
    "    plt.title('Sequential Forward Selection (w. StdDev)')\n",
    "    plt.grid()\n",
    "    plt.show()\n",
    "    \n",
    "    print('----Selected Features from FWD Search----')\n",
    "    print(sfs_fwd.k_feature_names_)\n",
    "        \n",
    "    X_train_sfs = sfs_fwd.transform(processed_curr_df.drop('delinquent',axis=1))\n",
    "    X_test_sfs = sfs_fwd.transform(processed_next_df.drop('delinquent',axis=1))\n",
    "    \n",
    "    y_train_sfs = processed_curr_df['delinquent']\n",
    "    y_test_sfs = processed_next_df['delinquent']\n",
    "    \n",
    "    model.fit(X_train_sfs,y_train_sfs)\n",
    "    \n",
    "    fwd_pred_train = model.predict(X_train_sfs)\n",
    "    fwd_pred_test = model.predict(X_test_sfs)\n",
    "    \n",
    "    print('-Training Metrics-')\n",
    "    compute_metrics(model,fwd_pred_train,y_train_sfs)\n",
    "    print('-Testing Metrics-')\n",
    "    compute_metrics(model,fwd_pred_test,y_test_sfs)"
   ]
  },
  {
   "cell_type": "code",
   "execution_count": 18,
   "metadata": {},
   "outputs": [],
   "source": [
    "def bwd_selection(model,processed_curr_df,processed_next_df):\n",
    "    global sfs_bwd\n",
    "    sfs_bwd = SFS(model, k_features = 10, forward=False, scoring='neg_mean_squared_error', n_jobs=-1)\n",
    "    \n",
    "    #Feature Selection on Current Quarter Data\n",
    "    sfs_bwd = sfs_bwd.fit(processed_curr_df.drop('delinquent',axis=1).values,processed_curr_df['delinquent'].values)\n",
    "    \n",
    "    fig1 = plot_sfs(sfs_bwd.get_metric_dict(), kind='std_dev')\n",
    "\n",
    "    plt.ylim([0.8, 1])\n",
    "    plt.title('Sequential Backward Selection (w. StdDev)')\n",
    "    plt.grid()\n",
    "    plt.show()\n",
    "    \n",
    "    print('----Selected Features from BWD Search----')\n",
    "    indxs = list(sfs_bwd.k_feature_names_)\n",
    "    str_cols = processed_curr_df.columns\n",
    "    features = set(zip(indxs,str_cols))\n",
    "    print(features)\n",
    "    \n",
    "    X_train_sfs = sfs_bwd.transform(processed_curr_df.drop('delinquent',axis=1))\n",
    "    X_test_sfs = sfs_bwd.transform(processed_next_df.drop('delinquent',axis=1))\n",
    "    \n",
    "    y_train_sfs = processed_curr_df['delinquent']\n",
    "    y_test_sfs = processed_next_df['delinquent']\n",
    "    \n",
    "    model.fit(X_train_sfs,y_train_sfs.values)\n",
    "    \n",
    "    bwd_pred_train = model.predict(X_train_sfs)\n",
    "    bwd_pred_test = model.predict(X_test_sfs)\n",
    "    \n",
    "    print('-Training Metrics-')\n",
    "    compute_metrics(model,bwd_pred_train,y_train_sfs)\n",
    "    print('-Testing Metrics-')\n",
    "    compute_metrics(model,bwd_pred_test,y_test_sfs)"
   ]
  },
  {
   "cell_type": "code",
   "execution_count": 19,
   "metadata": {},
   "outputs": [],
   "source": [
    "def exh_selection(model,processed_curr_df,processed_next_df):\n",
    "    global efs_exh\n",
    "    efs_exh = EFS(model, min_features=10, max_features=12, scoring='neg_mean_squared_error', n_jobs=-1)\n",
    "    \n",
    "    #Feature Selection on Current Quarter Data\n",
    "    efs_exh = efs_exh.fit(processed_curr_df.drop('delinquent',axis=1),processed_curr_df['delinquent'])\n",
    "    \n",
    "    print('----Selected Features from Exhaustive Search----')\n",
    "    print(efs_exh.k_feature_names_)\n",
    "    \n",
    "    X_train_efs = efs_exh.transform(processed_curr_df.drop('delinquent',axis=1))\n",
    "    X_test_efs = efs_exh.transform(processed_next_df.drop('delinquent',axis=1))\n",
    "    \n",
    "    y_train_efs = processed_curr_df['delinquent']\n",
    "    y_test_efs = processed_next_df['delinquent']\n",
    "    \n",
    "    model.fit(X_train_efs,y_train_efs)\n",
    "    \n",
    "    exh_pred_train = model.predict(X_train_efs)\n",
    "    exh_pred_test = model.predict(X_test_sfs)\n",
    "    \n",
    "    print('-Training Metrics-')\n",
    "    compute_metrics(model,exh_pred_train,y_train_sfs)\n",
    "    print('-Testing Metrics-')\n",
    "    compute_metrics(model,exh_pred_test,y_test_sfs)"
   ]
  },
  {
   "cell_type": "code",
   "execution_count": 20,
   "metadata": {},
   "outputs": [],
   "source": [
    "metric_frame = pd.DataFrame({'Quarter': [],\n",
    "         'Number of Actual Delinquents': [],\n",
    "         'Total Number of Predicted Deliquent': [],\n",
    "         'Total Number of Records in Dataset': [],\n",
    "         'Total Number of Deliquent Properly classified': [],\n",
    "         'Total Number of Deliquent Improperly classified': []})\n",
    "\n",
    "def metrics_as_per_table(cm,df):\n",
    "    global metric_frame\n",
    "    TP = cm[1][1]\n",
    "    FP = cm[0][1]\n",
    "    TN = cm[0][0]\n",
    "    FN = cm[1][0]\n",
    "    \n",
    "    df_local = pd.DataFrame(\n",
    "        {'Quarter': [next_quarter], \n",
    "         'Number of Actual Delinquents': [df[df['delinquent'] == 1]['delinquent'].count()], \n",
    "         'Total Number of Predicted Deliquent': [TP + FP],\n",
    "         'Total Number of Records in Dataset': [TP + TN + FP + FN],\n",
    "         'Total Number of Deliquent Properly classified': [TP + TN],\n",
    "         'Total Number of Deliquent Improperly classified': [FP + FN]\n",
    "        }\n",
    "    )\n",
    "    \n",
    "    metric_frame = pd.concat([metric_frame, df_local])\n",
    "    return metric_frame"
   ]
  },
  {
   "cell_type": "code",
   "execution_count": 21,
   "metadata": {},
   "outputs": [],
   "source": [
    "def main():\n",
    "    global current_quarter,next_quarter,current_qtr_df,next_qtr_df,processed_curr_df,processed_next_df\n",
    "\n",
    "#     #navigate(user, password)\n",
    "#     current_quarter = input('Input the Quarter as QNYYYY: ')\n",
    "#     user = input('Enter the Email ID: ')\n",
    "#     password = input('Enter the Password: ')\n",
    "    \n",
    "#     navigate(user, password)\n",
    "    navigate()\n",
    "    \n",
    "    current_quarter = 'Q12005'\n",
    "        \n",
    "    next_quarter = get_next_quarter_str(current_quarter)\n",
    "    \n",
    "    if int(next_quarter[2:]) not in list(range(2005,2017)):\n",
    "        print(\"The Quarters requested are out of range\")\n",
    "        exit(0)\n",
    "    \n",
    "    get_both_quarter_data(current_quarter,next_quarter)\n",
    "    \n",
    "    for file in file_names:\n",
    "        extract_zipped_files_to_cwd(download_path + '\\\\' + file)\n",
    "    \n",
    "    get_Monthly_Performance_File(folder_path_all_files + \"/historical_data1_time_*.txt\")\n",
    "    \n",
    "    #Get the Current Performance Data File Name\n",
    "    curr_file_name = file_names[0].split('.')[0]\n",
    "    idx = curr_file_name.find(current_quarter)\n",
    "    a0 = curr_file_name[:idx] + 'time_' + curr_file_name[idx:]\n",
    "    \n",
    "    current_qtr_df = pd.read_csv(a0 + '.csv',low_memory=False,nrows=10000)\n",
    "    \n",
    "    #Get the Next Performance Data File Name\n",
    "    next_file_name = file_names[1].split('.')[0]\n",
    "    idx = next_file_name.find(next_quarter)\n",
    "    a1 = next_file_name[:idx] + 'time_' + next_file_name[idx:]\n",
    "    \n",
    "    next_qtr_df = pd.read_csv(a1 + '.csv',low_memory=False,nrows=10000)\n",
    "    \n",
    "    processed_curr_df,processed_next_df = prepare_data_for_model(current_qtr_df,next_qtr_df)\n",
    "    \n",
    "    #Training all 3 Models on all features\n",
    "    print('--------Metrics for Quarters {} & {} when all features included--------'.format(current_quarter,next_quarter))\n",
    "    print('--Logistic Regression Model--')\n",
    "    train_logit_model(processed_curr_df,processed_next_df)\n",
    "    print('--Random Forrest Model--')\n",
    "    train_rf_model(processed_curr_df,processed_next_df)\n",
    "    print('--Neural Network Model--')\n",
    "    train_nn_model(processed_curr_df,processed_next_df)\n",
    "    \n",
    "    #Training Linear Model using Forward Selection\n",
    "    print('--------Metrics for Quarters {} & {} using Step Wise Forward Selection--------'.format(current_quarter,next_quarter))\n",
    "    print('--Logistic Regression Model--')\n",
    "    fwd_selection(lgt,processed_curr_df,processed_next_df)\n",
    "    \n",
    "    #Training Linear Model using Backward Selection\n",
    "    print('--------Metrics for Quarters {} & {} using Step Wise Backward Selection--------'.format(current_quarter,next_quarter))\n",
    "    print('--Logistic Regression Model--')\n",
    "    bwd_selection(lgt,processed_curr_df,processed_next_df)\n",
    "    \n",
    "#     #Training all 3 Models using Exhaustive Selection\n",
    "#     print('--------Metrics for Quarters {} & {} using Exhaustive Selection--------'.format(current_quarter,next_quarter))\n",
    "#     print('--Linear Model--')\n",
    "#     exh_selection(lm,processed_curr_df,processed_next_df)"
   ]
  },
  {
   "cell_type": "code",
   "execution_count": 22,
   "metadata": {
    "scrolled": false
   },
   "outputs": [
    {
     "name": "stdout",
     "output_type": "stream",
     "text": [
      "--------Metrics for Quarters Q12005 & Q22005 when all features included--------\n",
      "--Logistic Regression Model--\n",
      "-Training Metrics-\n"
     ]
    },
    {
     "data": {
      "image/png": "[encoded data removed]",
      "text/plain": [
       "<Figure size 432x288 with 1 Axes>"
      ]
     },
     "metadata": {
      "needs_background": "light"
     },
     "output_type": "display_data"
    },
    {
     "name": "stdout",
     "output_type": "stream",
     "text": [
      "AUC: 0.5040871934604905\n",
      "[[9633    0]\n",
      " [ 364    3]]\n",
      "\n",
      "\n",
      "-Testing Metrics-\n"
     ]
    },
    {
     "data": {
      "image/png": "[encoded data removed]",
      "text/plain": [
       "<Figure size 432x288 with 1 Axes>"
      ]
     },
     "metadata": {
      "needs_background": "light"
     },
     "output_type": "display_data"
    },
    {
     "name": "stdout",
     "output_type": "stream",
     "text": [
      "AUC: 0.5079575596816976\n",
      "[[9623    0]\n",
      " [ 371    6]]\n",
      "\n",
      "\n",
      "--Random Forrest Model--\n",
      "-Training Metrics-\n"
     ]
    },
    {
     "data": {
      "image/png": "[encoded data removed]",
      "text/plain": [
       "<Figure size 432x288 with 1 Axes>"
      ]
     },
     "metadata": {
      "needs_background": "light"
     },
     "output_type": "display_data"
    },
    {
     "name": "stdout",
     "output_type": "stream",
     "text": [
      "AUC: 0.944141689373297\n",
      "[[9633    0]\n",
      " [  41  326]]\n",
      "\n",
      "\n",
      "-Testing Metrics-\n"
     ]
    },
    {
     "data": {
      "image/png": "[encoded data removed]",
      "text/plain": [
       "<Figure size 432x288 with 1 Axes>"
      ]
     },
     "metadata": {
      "needs_background": "light"
     },
     "output_type": "display_data"
    },
    {
     "name": "stdout",
     "output_type": "stream",
     "text": [
      "AUC: 0.510454203029821\n",
      "[[9620    3]\n",
      " [ 369    8]]\n",
      "\n",
      "\n",
      "--Neural Network Model--\n",
      "-Training Metrics-\n"
     ]
    },
    {
     "data": {
      "image/png": "[encoded data removed]",
      "text/plain": [
       "<Figure size 432x288 with 1 Axes>"
      ]
     },
     "metadata": {
      "needs_background": "light"
     },
     "output_type": "display_data"
    },
    {
     "name": "stdout",
     "output_type": "stream",
     "text": [
      "AUC: 0.5068119891008175\n",
      "[[9633    0]\n",
      " [ 362    5]]\n",
      "\n",
      "\n",
      "-Testing Metrics-\n"
     ]
    },
    {
     "data": {
      "image/png": "[encoded data removed]",
      "text/plain": [
       "<Figure size 432x288 with 1 Axes>"
      ]
     },
     "metadata": {
      "needs_background": "light"
     },
     "output_type": "display_data"
    },
    {
     "name": "stdout",
     "output_type": "stream",
     "text": [
      "AUC: 0.5079575596816976\n",
      "[[9623    0]\n",
      " [ 371    6]]\n",
      "\n",
      "\n",
      "--------Metrics for Quarters Q12005 & Q22005 using Step Wise Forward Selection--------\n",
      "--Logistic Regression Model--\n"
     ]
    },
    {
     "ename": "NameError",
     "evalue": "name 'lm' is not defined",
     "output_type": "error",
     "traceback": [
      "\u001b[1;31m---------------------------------------------------------------------------\u001b[0m",
      "\u001b[1;31mNameError\u001b[0m                                 Traceback (most recent call last)",
      "\u001b[1;32m<ipython-input-22-263240bbee7e>\u001b[0m in \u001b[0;36m<module>\u001b[1;34m()\u001b[0m\n\u001b[1;32m----> 1\u001b[1;33m \u001b[0mmain\u001b[0m\u001b[1;33m(\u001b[0m\u001b[1;33m)\u001b[0m\u001b[1;33m\u001b[0m\u001b[0m\n\u001b[0m",
      "\u001b[1;32m<ipython-input-21-cfdfcca1f853>\u001b[0m in \u001b[0;36mmain\u001b[1;34m()\u001b[0m\n\u001b[0;32m     55\u001b[0m     \u001b[0mprint\u001b[0m\u001b[1;33m(\u001b[0m\u001b[1;34m'--------Metrics for Quarters {} & {} using Step Wise Forward Selection--------'\u001b[0m\u001b[1;33m.\u001b[0m\u001b[0mformat\u001b[0m\u001b[1;33m(\u001b[0m\u001b[0mcurrent_quarter\u001b[0m\u001b[1;33m,\u001b[0m\u001b[0mnext_quarter\u001b[0m\u001b[1;33m)\u001b[0m\u001b[1;33m)\u001b[0m\u001b[1;33m\u001b[0m\u001b[0m\n\u001b[0;32m     56\u001b[0m     \u001b[0mprint\u001b[0m\u001b[1;33m(\u001b[0m\u001b[1;34m'--Logistic Regression Model--'\u001b[0m\u001b[1;33m)\u001b[0m\u001b[1;33m\u001b[0m\u001b[0m\n\u001b[1;32m---> 57\u001b[1;33m     \u001b[0mfwd_selection\u001b[0m\u001b[1;33m(\u001b[0m\u001b[0mlm\u001b[0m\u001b[1;33m,\u001b[0m\u001b[0mprocessed_curr_df\u001b[0m\u001b[1;33m,\u001b[0m\u001b[0mprocessed_next_df\u001b[0m\u001b[1;33m)\u001b[0m\u001b[1;33m\u001b[0m\u001b[0m\n\u001b[0m\u001b[0;32m     58\u001b[0m \u001b[1;33m\u001b[0m\u001b[0m\n\u001b[0;32m     59\u001b[0m     \u001b[1;31m#Training all 3 Models using Backward Selection\u001b[0m\u001b[1;33m\u001b[0m\u001b[1;33m\u001b[0m\u001b[0m\n",
      "\u001b[1;31mNameError\u001b[0m: name 'lm' is not defined"
     ]
    }
   ],
   "source": [
    "main()"
   ]
  }
 ],
 "metadata": {
  "kernelspec": {
   "display_name": "Python 3",
   "language": "python",
   "name": "python3"
  },
  "language_info": {
   "codemirror_mode": {
    "name": "ipython",
    "version": 3
   },
   "file_extension": ".py",
   "mimetype": "text/x-python",
   "name": "python",
   "nbconvert_exporter": "python",
   "pygments_lexer": "ipython3",
   "version": "3.7.0"
  }
 },
 "nbformat": 4,
 "nbformat_minor": 2
}
