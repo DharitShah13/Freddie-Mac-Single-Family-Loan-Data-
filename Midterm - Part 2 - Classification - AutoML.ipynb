{
 "cells": [
  {
   "cell_type": "code",
   "execution_count": 1,
   "metadata": {},
   "outputs": [],
   "source": [
    "from sklearn.metrics import *\n",
    "from IPython.core.display import HTML\n",
    "\n",
    "import sys\n",
    "import os\n",
    "import time\n",
    "import zipfile\n",
    "import datetime\n",
    "import glob\n",
    "import pandas as pd\n",
    "import numpy as np"
   ]
  },
  {
   "cell_type": "markdown",
   "metadata": {},
   "source": [
    "# H2O AutoML"
   ]
  },
  {
   "cell_type": "code",
   "execution_count": 2,
   "metadata": {},
   "outputs": [],
   "source": [
    "import h2o\n",
    "from h2o.automl import H2OAutoML"
   ]
  },
  {
   "cell_type": "code",
   "execution_count": 3,
   "metadata": {},
   "outputs": [
    {
     "name": "stdout",
     "output_type": "stream",
     "text": [
      "Checking whether there is an H2O instance running at http://localhost:54321..... not found.\n",
      "Attempting to start a local H2O server...\n",
      "; Java HotSpot(TM) 64-Bit Server VM (build 25.191-b12, mixed mode)\n",
      "  Starting server from C:\\Users\\Abhinav\\Anaconda3\\lib\\site-packages\\h2o\\backend\\bin\\h2o.jar\n",
      "  Ice root: C:\\Users\\Abhinav\\AppData\\Local\\Temp\\tmpw5jf9ulc\n",
      "  JVM stdout: C:\\Users\\Abhinav\\AppData\\Local\\Temp\\tmpw5jf9ulc\\h2o_Abhinav_started_from_python.out\n",
      "  JVM stderr: C:\\Users\\Abhinav\\AppData\\Local\\Temp\\tmpw5jf9ulc\\h2o_Abhinav_started_from_python.err\n",
      "  Server is running at http://127.0.0.1:54321\n",
      "Connecting to H2O server at http://127.0.0.1:54321... successful.\n"
     ]
    },
    {
     "data": {
      "text/html": [
       "<div style=\"overflow:auto\"><table style=\"width:50%\"><tr><td>H2O cluster uptime:</td>\n",
       "<td>02 secs</td></tr>\n",
       "<tr><td>H2O cluster timezone:</td>\n",
       "<td>America/New_York</td></tr>\n",
       "<tr><td>H2O data parsing timezone:</td>\n",
       "<td>UTC</td></tr>\n",
       "<tr><td>H2O cluster version:</td>\n",
       "<td>3.22.0.2</td></tr>\n",
       "<tr><td>H2O cluster version age:</td>\n",
       "<td>7 days, 16 hours and 20 minutes </td></tr>\n",
       "<tr><td>H2O cluster name:</td>\n",
       "<td>H2O_from_python_Abhinav_fjtuvb</td></tr>\n",
       "<tr><td>H2O cluster total nodes:</td>\n",
       "<td>1</td></tr>\n",
       "<tr><td>H2O cluster free memory:</td>\n",
       "<td>7.111 Gb</td></tr>\n",
       "<tr><td>H2O cluster total cores:</td>\n",
       "<td>4</td></tr>\n",
       "<tr><td>H2O cluster allowed cores:</td>\n",
       "<td>4</td></tr>\n",
       "<tr><td>H2O cluster status:</td>\n",
       "<td>accepting new members, healthy</td></tr>\n",
       "<tr><td>H2O connection url:</td>\n",
       "<td>http://127.0.0.1:54321</td></tr>\n",
       "<tr><td>H2O connection proxy:</td>\n",
       "<td>None</td></tr>\n",
       "<tr><td>H2O internal security:</td>\n",
       "<td>False</td></tr>\n",
       "<tr><td>H2O API Extensions:</td>\n",
       "<td>Algos, AutoML, Core V3, Core V4</td></tr>\n",
       "<tr><td>Python version:</td>\n",
       "<td>3.7.0 final</td></tr></table></div>"
      ],
      "text/plain": [
       "--------------------------  -------------------------------\n",
       "H2O cluster uptime:         02 secs\n",
       "H2O cluster timezone:       America/New_York\n",
       "H2O data parsing timezone:  UTC\n",
       "H2O cluster version:        3.22.0.2\n",
       "H2O cluster version age:    7 days, 16 hours and 20 minutes\n",
       "H2O cluster name:           H2O_from_python_Abhinav_fjtuvb\n",
       "H2O cluster total nodes:    1\n",
       "H2O cluster free memory:    7.111 Gb\n",
       "H2O cluster total cores:    4\n",
       "H2O cluster allowed cores:  4\n",
       "H2O cluster status:         accepting new members, healthy\n",
       "H2O connection url:         http://127.0.0.1:54321\n",
       "H2O connection proxy:\n",
       "H2O internal security:      False\n",
       "H2O API Extensions:         Algos, AutoML, Core V3, Core V4\n",
       "Python version:             3.7.0 final\n",
       "--------------------------  -------------------------------"
      ]
     },
     "metadata": {},
     "output_type": "display_data"
    }
   ],
   "source": [
    "h2o.init(max_mem_size=8)"
   ]
  },
  {
   "cell_type": "code",
   "execution_count": 4,
   "metadata": {},
   "outputs": [
    {
     "name": "stdout",
     "output_type": "stream",
     "text": [
      "Parse progress: |█████████████████████████████████████████████████████████| 100%\n"
     ]
    }
   ],
   "source": [
    "training_frame = h2o.import_file('historical_data1_time_Q12005.csv')"
   ]
  },
  {
   "cell_type": "code",
   "execution_count": 5,
   "metadata": {},
   "outputs": [],
   "source": [
    "training_frame = training_frame.head(10000)"
   ]
  },
  {
   "cell_type": "code",
   "execution_count": 6,
   "metadata": {},
   "outputs": [],
   "source": [
    "training_frame['delinquent'] = (training_frame['delq_sts'] > 0)"
   ]
  },
  {
   "cell_type": "code",
   "execution_count": 7,
   "metadata": {},
   "outputs": [],
   "source": [
    "training_frame['delinquent'] = training_frame['delinquent'].asfactor()"
   ]
  },
  {
   "cell_type": "code",
   "execution_count": 8,
   "metadata": {},
   "outputs": [],
   "source": [
    "training_frame = training_frame.drop('delq_sts',axis=1)"
   ]
  },
  {
   "cell_type": "code",
   "execution_count": 9,
   "metadata": {
    "scrolled": true
   },
   "outputs": [
    {
     "name": "stdout",
     "output_type": "stream",
     "text": [
      "Parse progress: |█████████████████████████████████████████████████████████| 100%\n"
     ]
    }
   ],
   "source": [
    "testing_frame = h2o.import_file('historical_data1_time_Q22005.csv')"
   ]
  },
  {
   "cell_type": "code",
   "execution_count": 10,
   "metadata": {},
   "outputs": [],
   "source": [
    "testing_frame = testing_frame.head(10000)"
   ]
  },
  {
   "cell_type": "code",
   "execution_count": 11,
   "metadata": {},
   "outputs": [],
   "source": [
    "testing_frame['delinquent'] = (testing_frame['delq_sts'] > 0)"
   ]
  },
  {
   "cell_type": "code",
   "execution_count": 12,
   "metadata": {},
   "outputs": [],
   "source": [
    "testing_frame['delinquent'] = testing_frame['delinquent'].asfactor()"
   ]
  },
  {
   "cell_type": "code",
   "execution_count": 13,
   "metadata": {},
   "outputs": [],
   "source": [
    "testing_frame = testing_frame.drop('delq_sts',axis=1)"
   ]
  },
  {
   "cell_type": "code",
   "execution_count": 14,
   "metadata": {},
   "outputs": [],
   "source": [
    "X = training_frame.columns\n",
    "y = 'delinquent'\n",
    "X.remove(y)\n",
    "\n",
    "#Unnecessary Columns\n",
    "X.remove('loan_seq')"
   ]
  },
  {
   "cell_type": "code",
   "execution_count": 15,
   "metadata": {},
   "outputs": [],
   "source": [
    "aml = H2OAutoML(max_runtime_secs=300)"
   ]
  },
  {
   "cell_type": "code",
   "execution_count": 16,
   "metadata": {
    "scrolled": false
   },
   "outputs": [
    {
     "name": "stdout",
     "output_type": "stream",
     "text": [
      "AutoML progress: |████████████████████████████████████████████████████████| 100%\n"
     ]
    }
   ],
   "source": [
    "aml.train(x = X, y = y, training_frame = training_frame, leaderboard_frame= testing_frame)"
   ]
  },
  {
   "cell_type": "code",
   "execution_count": 17,
   "metadata": {},
   "outputs": [
    {
     "data": {
      "text/html": [
       "<div>\n",
       "<style scoped>\n",
       "    .dataframe tbody tr th:only-of-type {\n",
       "        vertical-align: middle;\n",
       "    }\n",
       "\n",
       "    .dataframe tbody tr th {\n",
       "        vertical-align: top;\n",
       "    }\n",
       "\n",
       "    .dataframe thead th {\n",
       "        text-align: right;\n",
       "    }\n",
       "</style>\n",
       "<table border=\"1\" class=\"dataframe\">\n",
       "  <thead>\n",
       "    <tr style=\"text-align: right;\">\n",
       "      <th></th>\n",
       "      <th>model_id</th>\n",
       "      <th>auc</th>\n",
       "      <th>logloss</th>\n",
       "      <th>mean_per_class_error</th>\n",
       "      <th>rmse</th>\n",
       "      <th>mse</th>\n",
       "    </tr>\n",
       "  </thead>\n",
       "  <tbody>\n",
       "    <tr>\n",
       "      <th>0</th>\n",
       "      <td>GBM_grid_1_AutoML_20181129_232951_model_3</td>\n",
       "      <td>0.731071</td>\n",
       "      <td>0.170347</td>\n",
       "      <td>0.393053</td>\n",
       "      <td>0.196077</td>\n",
       "      <td>0.038446</td>\n",
       "    </tr>\n",
       "    <tr>\n",
       "      <th>1</th>\n",
       "      <td>StackedEnsemble_BestOfFamily_AutoML_20181129_2...</td>\n",
       "      <td>0.729174</td>\n",
       "      <td>0.193488</td>\n",
       "      <td>0.352791</td>\n",
       "      <td>0.215663</td>\n",
       "      <td>0.046511</td>\n",
       "    </tr>\n",
       "    <tr>\n",
       "      <th>2</th>\n",
       "      <td>GBM_grid_1_AutoML_20181129_232951_model_5</td>\n",
       "      <td>0.726274</td>\n",
       "      <td>0.153573</td>\n",
       "      <td>0.302437</td>\n",
       "      <td>0.190421</td>\n",
       "      <td>0.036260</td>\n",
       "    </tr>\n",
       "    <tr>\n",
       "      <th>3</th>\n",
       "      <td>StackedEnsemble_AllModels_AutoML_20181129_232951</td>\n",
       "      <td>0.725138</td>\n",
       "      <td>0.194608</td>\n",
       "      <td>0.368214</td>\n",
       "      <td>0.213029</td>\n",
       "      <td>0.045382</td>\n",
       "    </tr>\n",
       "    <tr>\n",
       "      <th>4</th>\n",
       "      <td>GBM_grid_1_AutoML_20181129_232951_model_4</td>\n",
       "      <td>0.724881</td>\n",
       "      <td>0.191189</td>\n",
       "      <td>0.378779</td>\n",
       "      <td>0.210833</td>\n",
       "      <td>0.044451</td>\n",
       "    </tr>\n",
       "    <tr>\n",
       "      <th>5</th>\n",
       "      <td>GBM_grid_1_AutoML_20181129_232951_model_6</td>\n",
       "      <td>0.715824</td>\n",
       "      <td>0.164517</td>\n",
       "      <td>0.321505</td>\n",
       "      <td>0.195332</td>\n",
       "      <td>0.038155</td>\n",
       "    </tr>\n",
       "    <tr>\n",
       "      <th>6</th>\n",
       "      <td>GBM_1_AutoML_20181129_232951</td>\n",
       "      <td>0.714367</td>\n",
       "      <td>0.206178</td>\n",
       "      <td>0.388667</td>\n",
       "      <td>0.212965</td>\n",
       "      <td>0.045354</td>\n",
       "    </tr>\n",
       "    <tr>\n",
       "      <th>7</th>\n",
       "      <td>GBM_grid_1_AutoML_20181129_232951_model_1</td>\n",
       "      <td>0.710247</td>\n",
       "      <td>0.180101</td>\n",
       "      <td>0.394208</td>\n",
       "      <td>0.197137</td>\n",
       "      <td>0.038863</td>\n",
       "    </tr>\n",
       "    <tr>\n",
       "      <th>8</th>\n",
       "      <td>GBM_grid_1_AutoML_20181129_232951_model_2</td>\n",
       "      <td>0.709907</td>\n",
       "      <td>0.153836</td>\n",
       "      <td>0.357888</td>\n",
       "      <td>0.188795</td>\n",
       "      <td>0.035644</td>\n",
       "    </tr>\n",
       "    <tr>\n",
       "      <th>9</th>\n",
       "      <td>XRT_1_AutoML_20181129_232951</td>\n",
       "      <td>0.705804</td>\n",
       "      <td>0.168318</td>\n",
       "      <td>0.368168</td>\n",
       "      <td>0.198204</td>\n",
       "      <td>0.039285</td>\n",
       "    </tr>\n",
       "    <tr>\n",
       "      <th>10</th>\n",
       "      <td>GBM_grid_1_AutoML_20181129_232951_model_8</td>\n",
       "      <td>0.704838</td>\n",
       "      <td>0.160363</td>\n",
       "      <td>0.331448</td>\n",
       "      <td>0.190431</td>\n",
       "      <td>0.036264</td>\n",
       "    </tr>\n",
       "    <tr>\n",
       "      <th>11</th>\n",
       "      <td>GBM_grid_1_AutoML_20181129_232951_model_7</td>\n",
       "      <td>0.704038</td>\n",
       "      <td>0.167097</td>\n",
       "      <td>0.319330</td>\n",
       "      <td>0.195259</td>\n",
       "      <td>0.038126</td>\n",
       "    </tr>\n",
       "    <tr>\n",
       "      <th>12</th>\n",
       "      <td>DRF_1_AutoML_20181129_232951</td>\n",
       "      <td>0.700288</td>\n",
       "      <td>0.161920</td>\n",
       "      <td>0.327183</td>\n",
       "      <td>0.197094</td>\n",
       "      <td>0.038846</td>\n",
       "    </tr>\n",
       "    <tr>\n",
       "      <th>13</th>\n",
       "      <td>GBM_2_AutoML_20181129_232951</td>\n",
       "      <td>0.696422</td>\n",
       "      <td>0.207236</td>\n",
       "      <td>0.370526</td>\n",
       "      <td>0.209274</td>\n",
       "      <td>0.043796</td>\n",
       "    </tr>\n",
       "    <tr>\n",
       "      <th>14</th>\n",
       "      <td>GBM_3_AutoML_20181129_232951</td>\n",
       "      <td>0.695319</td>\n",
       "      <td>0.201620</td>\n",
       "      <td>0.379023</td>\n",
       "      <td>0.206190</td>\n",
       "      <td>0.042514</td>\n",
       "    </tr>\n",
       "    <tr>\n",
       "      <th>15</th>\n",
       "      <td>GBM_4_AutoML_20181129_232951</td>\n",
       "      <td>0.692413</td>\n",
       "      <td>0.223296</td>\n",
       "      <td>0.400027</td>\n",
       "      <td>0.210317</td>\n",
       "      <td>0.044233</td>\n",
       "    </tr>\n",
       "    <tr>\n",
       "      <th>16</th>\n",
       "      <td>GBM_5_AutoML_20181129_232951</td>\n",
       "      <td>0.688920</td>\n",
       "      <td>0.203843</td>\n",
       "      <td>0.368527</td>\n",
       "      <td>0.205887</td>\n",
       "      <td>0.042389</td>\n",
       "    </tr>\n",
       "    <tr>\n",
       "      <th>17</th>\n",
       "      <td>DeepLearning_grid_1_AutoML_20181129_232951_mod...</td>\n",
       "      <td>0.662651</td>\n",
       "      <td>0.426168</td>\n",
       "      <td>0.453674</td>\n",
       "      <td>0.194159</td>\n",
       "      <td>0.037698</td>\n",
       "    </tr>\n",
       "    <tr>\n",
       "      <th>18</th>\n",
       "      <td>DeepLearning_grid_1_AutoML_20181129_232951_mod...</td>\n",
       "      <td>0.642255</td>\n",
       "      <td>0.297210</td>\n",
       "      <td>0.377557</td>\n",
       "      <td>0.194080</td>\n",
       "      <td>0.037667</td>\n",
       "    </tr>\n",
       "    <tr>\n",
       "      <th>19</th>\n",
       "      <td>GLM_grid_1_AutoML_20181129_232951_model_1</td>\n",
       "      <td>0.631416</td>\n",
       "      <td>0.158996</td>\n",
       "      <td>0.442810</td>\n",
       "      <td>0.187061</td>\n",
       "      <td>0.034992</td>\n",
       "    </tr>\n",
       "    <tr>\n",
       "      <th>20</th>\n",
       "      <td>DeepLearning_grid_1_AutoML_20181129_232951_mod...</td>\n",
       "      <td>0.581832</td>\n",
       "      <td>0.197916</td>\n",
       "      <td>0.414274</td>\n",
       "      <td>0.191142</td>\n",
       "      <td>0.036535</td>\n",
       "    </tr>\n",
       "    <tr>\n",
       "      <th>21</th>\n",
       "      <td>DeepLearning_1_AutoML_20181129_232951</td>\n",
       "      <td>0.533068</td>\n",
       "      <td>0.231537</td>\n",
       "      <td>0.392148</td>\n",
       "      <td>0.190309</td>\n",
       "      <td>0.036218</td>\n",
       "    </tr>\n",
       "  </tbody>\n",
       "</table>\n",
       "</div>"
      ],
      "text/plain": [
       "                                             model_id       auc   logloss  \\\n",
       "0           GBM_grid_1_AutoML_20181129_232951_model_3  0.731071  0.170347   \n",
       "1   StackedEnsemble_BestOfFamily_AutoML_20181129_2...  0.729174  0.193488   \n",
       "2           GBM_grid_1_AutoML_20181129_232951_model_5  0.726274  0.153573   \n",
       "3    StackedEnsemble_AllModels_AutoML_20181129_232951  0.725138  0.194608   \n",
       "4           GBM_grid_1_AutoML_20181129_232951_model_4  0.724881  0.191189   \n",
       "5           GBM_grid_1_AutoML_20181129_232951_model_6  0.715824  0.164517   \n",
       "6                        GBM_1_AutoML_20181129_232951  0.714367  0.206178   \n",
       "7           GBM_grid_1_AutoML_20181129_232951_model_1  0.710247  0.180101   \n",
       "8           GBM_grid_1_AutoML_20181129_232951_model_2  0.709907  0.153836   \n",
       "9                        XRT_1_AutoML_20181129_232951  0.705804  0.168318   \n",
       "10          GBM_grid_1_AutoML_20181129_232951_model_8  0.704838  0.160363   \n",
       "11          GBM_grid_1_AutoML_20181129_232951_model_7  0.704038  0.167097   \n",
       "12                       DRF_1_AutoML_20181129_232951  0.700288  0.161920   \n",
       "13                       GBM_2_AutoML_20181129_232951  0.696422  0.207236   \n",
       "14                       GBM_3_AutoML_20181129_232951  0.695319  0.201620   \n",
       "15                       GBM_4_AutoML_20181129_232951  0.692413  0.223296   \n",
       "16                       GBM_5_AutoML_20181129_232951  0.688920  0.203843   \n",
       "17  DeepLearning_grid_1_AutoML_20181129_232951_mod...  0.662651  0.426168   \n",
       "18  DeepLearning_grid_1_AutoML_20181129_232951_mod...  0.642255  0.297210   \n",
       "19          GLM_grid_1_AutoML_20181129_232951_model_1  0.631416  0.158996   \n",
       "20  DeepLearning_grid_1_AutoML_20181129_232951_mod...  0.581832  0.197916   \n",
       "21              DeepLearning_1_AutoML_20181129_232951  0.533068  0.231537   \n",
       "\n",
       "    mean_per_class_error      rmse       mse  \n",
       "0               0.393053  0.196077  0.038446  \n",
       "1               0.352791  0.215663  0.046511  \n",
       "2               0.302437  0.190421  0.036260  \n",
       "3               0.368214  0.213029  0.045382  \n",
       "4               0.378779  0.210833  0.044451  \n",
       "5               0.321505  0.195332  0.038155  \n",
       "6               0.388667  0.212965  0.045354  \n",
       "7               0.394208  0.197137  0.038863  \n",
       "8               0.357888  0.188795  0.035644  \n",
       "9               0.368168  0.198204  0.039285  \n",
       "10              0.331448  0.190431  0.036264  \n",
       "11              0.319330  0.195259  0.038126  \n",
       "12              0.327183  0.197094  0.038846  \n",
       "13              0.370526  0.209274  0.043796  \n",
       "14              0.379023  0.206190  0.042514  \n",
       "15              0.400027  0.210317  0.044233  \n",
       "16              0.368527  0.205887  0.042389  \n",
       "17              0.453674  0.194159  0.037698  \n",
       "18              0.377557  0.194080  0.037667  \n",
       "19              0.442810  0.187061  0.034992  \n",
       "20              0.414274  0.191142  0.036535  \n",
       "21              0.392148  0.190309  0.036218  "
      ]
     },
     "execution_count": 17,
     "metadata": {},
     "output_type": "execute_result"
    }
   ],
   "source": [
    "aml.leaderboard.as_data_frame()"
   ]
  },
  {
   "cell_type": "markdown",
   "metadata": {},
   "source": [
    "# TPOT"
   ]
  },
  {
   "cell_type": "code",
   "execution_count": 1,
   "metadata": {},
   "outputs": [],
   "source": [
    "from tpot import TPOTClassifier"
   ]
  },
  {
   "cell_type": "code",
   "execution_count": 2,
   "metadata": {},
   "outputs": [],
   "source": [
    "tpot = TPOTClassifier(generations=2, population_size=50,\n",
    "                     offspring_size=None,\n",
    "                     mutation_rate=0.9,\n",
    "                     verbosity=3,cv=2,n_jobs=-1)"
   ]
  },
  {
   "cell_type": "code",
   "execution_count": 5,
   "metadata": {},
   "outputs": [],
   "source": [
    "df_train = pd.read_csv('historical_data1_time_Q12005.csv',low_memory=False,nrows=10000)"
   ]
  },
  {
   "cell_type": "code",
   "execution_count": 6,
   "metadata": {},
   "outputs": [],
   "source": [
    "df_test = pd.read_csv('historical_data1_time_Q22005.csv',low_memory=False,nrows=10000)"
   ]
  },
  {
   "cell_type": "code",
   "execution_count": 7,
   "metadata": {},
   "outputs": [],
   "source": [
    "def createDummies(df):\n",
    "    dummies = pd.get_dummies(df['repch_flag']).rename(columns=lambda x: 'repch_flag' + str(x))\n",
    "    df = pd.concat([df, dummies], axis=1)\n",
    "    dummies1 = pd.get_dummies(df['cd_zero_bal']).rename(columns=lambda x: 'cd_zero_bal' + str(x))\n",
    "    df = pd.concat([df, dummies1], axis=1)\n",
    "    return df"
   ]
  },
  {
   "cell_type": "code",
   "execution_count": 8,
   "metadata": {},
   "outputs": [],
   "source": [
    "def transformDF(df):\n",
    "    df['delinquent'] = (df.delq_sts > 0).astype(int)\n",
    "    df = df.drop(['cd_zero_bal'],axis = 1)\n",
    "    df = df.drop('delq_sts', axis = 1)\n",
    "    return df"
   ]
  },
  {
   "cell_type": "code",
   "execution_count": 9,
   "metadata": {},
   "outputs": [],
   "source": [
    "def prepare_data_for_model(current_df,next_df):\n",
    "    current_df = createDummies(current_df)\n",
    "    next_df = createDummies(next_df)\n",
    "    \n",
    "    current_df = transformDF(current_df)\n",
    "    next_df = transformDF(next_df)\n",
    "    \n",
    "    current_df = current_df._get_numeric_data()\n",
    "    next_df = next_df._get_numeric_data()\n",
    "    \n",
    "    return current_df,next_df"
   ]
  },
  {
   "cell_type": "code",
   "execution_count": 10,
   "metadata": {},
   "outputs": [],
   "source": [
    "processed_train,processed_test = prepare_data_for_model(df_train,df_test)"
   ]
  },
  {
   "cell_type": "code",
   "execution_count": 11,
   "metadata": {},
   "outputs": [],
   "source": [
    "X_train = processed_train.drop('delinquent',axis=1)\n",
    "y_train = processed_train['delinquent']\n",
    "\n",
    "X_test = processed_test.drop('delinquent',axis=1)\n",
    "y_test = processed_test['delinquent']"
   ]
  },
  {
   "cell_type": "code",
   "execution_count": 12,
   "metadata": {
    "scrolled": false
   },
   "outputs": [
    {
     "name": "stderr",
     "output_type": "stream",
     "text": [
      "C:\\Users\\Abhinav\\Anaconda3\\lib\\site-packages\\sklearn\\ensemble\\weight_boosting.py:29: DeprecationWarning: numpy.core.umath_tests is an internal NumPy module and should not be imported. It will be removed in a future NumPy release.\n",
      "  from numpy.core.umath_tests import inner1d\n"
     ]
    },
    {
     "name": "stdout",
     "output_type": "stream",
     "text": [
      "Warning: xgboost.XGBClassifier is not available and will not be used by TPOT.\n",
      "29 operators have been imported by TPOT.\n"
     ]
    },
    {
     "data": {
      "application/vnd.jupyter.widget-view+json": {
       "model_id": "",
       "version_major": 2,
       "version_minor": 0
      },
      "text/plain": [
       "HBox(children=(IntProgress(value=0, description='Optimization Progress', max=150), HTML(value='')))"
      ]
     },
     "metadata": {},
     "output_type": "display_data"
    },
    {
     "name": "stdout",
     "output_type": "stream",
     "text": [
      "_pre_test decorator: _random_mutation_operator: num_test=0 Input X must be non-negative\n",
      "_pre_test decorator: _random_mutation_operator: num_test=0 Unsupported set of arguments: The combination of penalty='l1' and loss='logistic_regression' are not supported when dual=True, Parameters: penalty='l1', loss='logistic_regression', dual=True\n",
      "_pre_test decorator: _random_mutation_operator: num_test=0 Input X must be non-negative\n",
      "Pipeline encountered that has previously been evaluated during the optimization process. Using the score from the previous evaluation.\n",
      "Generation 1 - Current Pareto front scores:\n",
      "-1\t0.9633999985359999\tLogisticRegression(input_matrix, LogisticRegression__C=0.5, LogisticRegression__dual=False, LogisticRegression__penalty=l2)\n",
      "-2\t0.9639000985560039\tGaussianNB(SelectPercentile(input_matrix, SelectPercentile__percentile=15))\n",
      "\n",
      "_pre_test decorator: _random_mutation_operator: num_test=0 Unsupported set of arguments: The combination of penalty='l2' and loss='hinge' are not supported when dual=False, Parameters: penalty='l2', loss='hinge', dual=False\n",
      "_pre_test decorator: _random_mutation_operator: num_test=0 X contains negative values.\n",
      "Pipeline encountered that has previously been evaluated during the optimization process. Using the score from the previous evaluation.\n",
      "Skipped pipeline #115 due to time out. Continuing to the next pipeline.\n",
      "Generation 2 - Current Pareto front scores:\n",
      "-1\t0.9633999985359999\tLogisticRegression(input_matrix, LogisticRegression__C=0.5, LogisticRegression__dual=False, LogisticRegression__penalty=l2)\n",
      "-2\t0.9639000985560039\tGaussianNB(SelectPercentile(input_matrix, SelectPercentile__percentile=15))\n",
      "\n",
      "\r"
     ]
    },
    {
     "data": {
      "text/plain": [
       "TPOTClassifier(config_dict=None, crossover_rate=0.1, cv=2,\n",
       "        disable_update_check=False, early_stop=None, generations=2,\n",
       "        max_eval_time_mins=5, max_time_mins=None, memory=None,\n",
       "        mutation_rate=0.9, n_jobs=-1, offspring_size=None,\n",
       "        periodic_checkpoint_folder=None, population_size=50,\n",
       "        random_state=None, scoring=None, subsample=1.0, use_dask=False,\n",
       "        verbosity=3, warm_start=False)"
      ]
     },
     "execution_count": 12,
     "metadata": {},
     "output_type": "execute_result"
    }
   ],
   "source": [
    "tpot.fit(X_train, y_train)"
   ]
  },
  {
   "cell_type": "code",
   "execution_count": 13,
   "metadata": {},
   "outputs": [
    {
     "name": "stderr",
     "output_type": "stream",
     "text": [
      "C:\\Users\\Abhinav\\Anaconda3\\lib\\site-packages\\scipy\\stats\\stats.py:1713: FutureWarning: Using a non-tuple sequence for multidimensional indexing is deprecated; use `arr[tuple(seq)]` instead of `arr[seq]`. In the future this will be interpreted as an array index, `arr[np.array(seq)]`, which will result either in an error or a different result.\n",
      "  return np.add.reduce(sorted[indexer] * weights, axis=axis) / sumval\n"
     ]
    },
    {
     "name": "stdout",
     "output_type": "stream",
     "text": [
      "The RMSE of TPOT Regressor is 0.9631\n"
     ]
    }
   ],
   "source": [
    "print('The accuracy of TPOT Classifier is {}'.format(tpot.score(X_test,y_test)))"
   ]
  },
  {
   "cell_type": "code",
   "execution_count": 14,
   "metadata": {},
   "outputs": [
    {
     "data": {
      "text/plain": [
       "True"
      ]
     },
     "execution_count": 14,
     "metadata": {},
     "output_type": "execute_result"
    }
   ],
   "source": [
    "tpot.export('tpot_freddiemac_classification_pipeline.py')"
   ]
  }
 ],
 "metadata": {
  "kernelspec": {
   "display_name": "Python 3",
   "language": "python",
   "name": "python3"
  },
  "language_info": {
   "codemirror_mode": {
    "name": "ipython",
    "version": 3
   },
   "file_extension": ".py",
   "mimetype": "text/x-python",
   "name": "python",
   "nbconvert_exporter": "python",
   "pygments_lexer": "ipython3",
   "version": "3.7.0"
  }
 },
 "nbformat": 4,
 "nbformat_minor": 2
}
